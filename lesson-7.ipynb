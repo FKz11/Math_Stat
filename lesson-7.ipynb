{
 "cells": [
  {
   "cell_type": "markdown",
   "metadata": {},
   "source": [
    "# Lesson-7"
   ]
  },
  {
   "cell_type": "markdown",
   "metadata": {},
   "source": [
    "### Вспомогательные функции:"
   ]
  },
  {
   "cell_type": "markdown",
   "metadata": {},
   "source": [
    "Модуль:"
   ]
  },
  {
   "cell_type": "code",
   "execution_count": 1,
   "metadata": {},
   "outputs": [],
   "source": [
    "def abs(number):\n",
    "    return number if number > 0 else -number"
   ]
  },
  {
   "cell_type": "markdown",
   "metadata": {},
   "source": [
    "Реализация матриц и операций над ними:"
   ]
  },
  {
   "cell_type": "code",
   "execution_count": 2,
   "metadata": {},
   "outputs": [],
   "source": [
    "class Matrix:\n",
    "    \n",
    "    class_round = 10 #Порядок округления\n",
    "\n",
    "    def __init__(self, array, n_lines, m_columns):\n",
    "        self.array = array\n",
    "        self.n_lines = n_lines\n",
    "        self.m_columns = m_columns\n",
    "\n",
    "    @classmethod\n",
    "    def copy_array(cls, array): #Копирование\n",
    "        n_lines = len(array)\n",
    "        m_columns = len(array[0])\n",
    "        new_array = [[0 for _ in range(m_columns)] for _ in range(n_lines)]\n",
    "        for i in range(n_lines):\n",
    "            for j in range(m_columns):\n",
    "                new_array[i][j] = array[i][j]\n",
    "        return new_array\n",
    "\n",
    "    @classmethod\n",
    "    def transpose(cls, matrix): #Транцонирование\n",
    "        new_array = [[matrix.array[i][j] for i in range(matrix.n_lines)] for j in range(matrix.m_columns)]\n",
    "        new_matrix = cls(new_array, matrix.m_columns, matrix.n_lines)\n",
    "        return new_matrix\n",
    "\n",
    "    @classmethod\n",
    "    def sum(cls, matrix1, matrix2): #Сложение\n",
    "        if (matrix1.n_lines != matrix2.n_lines) or (matrix1.m_columns != matrix2.m_columns):\n",
    "            print(\"ERROR: (matrix1.n_lines != matrix2.n_lines) or (matrix1.m_columns != matrix2.m_columns)\")\n",
    "            return None\n",
    "        new_array = [[matrix1.array[i][j] + matrix2.array[i][j] for j in range(matrix1.m_columns)] for i in\n",
    "                     range(matrix1.n_lines)]\n",
    "        new_matrix = cls(new_array, matrix1.n_lines, matrix1.m_columns)\n",
    "        return new_matrix\n",
    "    \n",
    "    @classmethod\n",
    "    def dot_scalar(cls, matrix, scalar): #Умножение на скаляр\n",
    "        new_array = [[(matrix.array[i][j] * scalar) for j in range(matrix.m_columns)] for i in range(matrix.n_lines)]\n",
    "        new_matrix = cls(new_array, matrix.n_lines, matrix.m_columns)\n",
    "        return new_matrix\n",
    "\n",
    "    @classmethod\n",
    "    def dot(cls, matrix1, matrix2): #Умножение\n",
    "        if matrix1.m_columns != matrix2.n_lines:\n",
    "            print(\"ERROR: matrix1.m_columns != matrix2.n_lines\")\n",
    "            return None\n",
    "        new_array = [[0 for _ in range(matrix2.m_columns)] for _ in range(matrix1.n_lines)]\n",
    "        for i in range(matrix1.n_lines):\n",
    "            for j in range(matrix2.m_columns):\n",
    "                new_array[i][j] = sum([matrix1.array[i][k] * matrix2.array[k][j] for k in range(matrix1.m_columns)])\n",
    "        new_matrix = cls(new_array, matrix1.n_lines, matrix2.m_columns)\n",
    "        return new_matrix\n",
    "\n",
    "    @classmethod\n",
    "    def det(cls, origin_array): #Определитель\n",
    "        if len(origin_array) != len(origin_array[0]):\n",
    "            print(\"ERROR: matrix.n_lines != matrix.m_columns\")\n",
    "            return None\n",
    "        array: list = cls.copy_array(origin_array)\n",
    "        length = len(array)\n",
    "        sign = 0\n",
    "        for j in range(length - 1):\n",
    "            if array[j][j] == 0:\n",
    "                for i in range(j + 1, length):\n",
    "                    if array[i][j] != 0:\n",
    "                        array[i], array[j] = array[j], array[i]\n",
    "                        sign += 1\n",
    "                        break\n",
    "            for i in range(j + 1, length):\n",
    "                if array[i][j] != 0:\n",
    "                    array[i] = [x - y for x, y in zip(array[i], [k * (array[i][j] / array[j][j]) for k in array[j]])]\n",
    "        det = (-1) ** sign\n",
    "        for i in range(length):\n",
    "            det *= array[i][i]\n",
    "        return det\n",
    "\n",
    "    @classmethod\n",
    "    def inv(cls, matrix): #Обратная матрица\n",
    "        if matrix.n_lines != matrix.m_columns:\n",
    "            print(\"ERROR: matrix.n_lines != matrix.m_columns\")\n",
    "            return None\n",
    "        a_det = cls.det(matrix.array)\n",
    "        if a_det == 0:\n",
    "            print(\"ERROR: a_det == 0\")\n",
    "            return None\n",
    "        if matrix.n_lines == 1:\n",
    "            return cls([[1 / a_det]], matrix.n_lines, matrix.m_columns)\n",
    "        new_array = cls.copy_array(matrix.array)\n",
    "        for i in range(matrix.n_lines):\n",
    "            for j in range(matrix.m_columns):\n",
    "                new_array[i][j] = ((-1) ** (i + j)) * cls.det(\n",
    "                    [[matrix.array[q][w] for w in range(matrix.m_columns) if w != j] for q in range(matrix.n_lines) if\n",
    "                     q != i]) / a_det\n",
    "        new_matrix = cls.transpose(cls(new_array, matrix.n_lines, matrix.m_columns))\n",
    "        return new_matrix\n",
    "\n",
    "    def __str__(self):\n",
    "        data = \"\"\n",
    "        for line in self.array:\n",
    "            for k in line:\n",
    "                data += str(round(k, self.class_round)) + \" \"\n",
    "            data += \"\\n\"\n",
    "        return data[:-1]"
   ]
  },
  {
   "cell_type": "markdown",
   "metadata": {},
   "source": [
    "Функции из математической статистики:"
   ]
  },
  {
   "cell_type": "code",
   "execution_count": 3,
   "metadata": {},
   "outputs": [],
   "source": [
    "class Math_Stat:\n",
    "    \n",
    "    @classmethod\n",
    "    def mean(cls, array): #Среднее арифметическое\n",
    "        sum = 0\n",
    "        for x in array:\n",
    "            sum += x\n",
    "        return sum / len(array)\n",
    "    \n",
    "    @classmethod\n",
    "    def var(cls, array, ddof = 0): #Дисперсия\n",
    "        sum = 0\n",
    "        mean = cls.mean(array) \n",
    "        for x in array:\n",
    "            sum += (x - mean)**2\n",
    "        return sum / (len(array) - ddof)\n",
    "    \n",
    "    @classmethod\n",
    "    def std(cls, array, ddof = 0): #Среднее квадратичное отклонение\n",
    "        return cls.var(array, ddof)**(0.5)\n",
    "    \n",
    "    @classmethod\n",
    "    def covcoef(cls, array_1, array_2): #Коэфициент ковариации\n",
    "        return cls.mean([array_1[i] * array_2[i] for i in range(len(array_1))]) - cls.mean(array_1) * cls.mean(array_2)\n",
    "    \n",
    "    @classmethod\n",
    "    def corrcoef(cls, array_1, array_2): #Коэфициент корреляции Пирсона\n",
    "        return cls.covcoef(array_1, array_2) / (cls.std(array_1) * cls.std(array_2))\n",
    "    \n",
    "    @classmethod\n",
    "    def lin_reg_matrix(cls, array_x, array_y, intercept = True): #Коэфициенты линейной регресси через матрицы\n",
    "        if intercept:\n",
    "            matrix_x = Matrix([[1, n] for n in array_x], len(array_x), 2)\n",
    "        else:\n",
    "            matrix_x = Matrix.transpose(Matrix([array_x], 1, len(array_x)))\n",
    "        matrix_y = Matrix.transpose(Matrix([array_y], 1, len(array_y)))\n",
    "        return Matrix.dot(Matrix.dot(Matrix.inv(Matrix.dot(Matrix.transpose(matrix_x), matrix_x)), Matrix.transpose(matrix_x)), \n",
    "                          matrix_y)\n",
    "    \n",
    "    @classmethod\n",
    "    def mse_lin_reg(cls, B0, B1, array_x, array_y): #Средняя квадратическая ошибка линейной регресси\n",
    "        n = len(array_x)\n",
    "        return sum([(B0 + array_x[i] * B1 - array_y[i])**2 for i in range(n)]) / n\n",
    "    \n",
    "    @classmethod #Коэфициенты линейной регресси через градиентный спуск\n",
    "    def lin_reg_grad(cls, array_x, array_y, alpha = 10**(-5), intercept = True):\n",
    "        n = len(array_x)\n",
    "        B0 = 0\n",
    "        B1 = 1\n",
    "        last_mse = -1\n",
    "        new_mse = cls.mse_lin_reg(B0, B1, array_x, array_y)\n",
    "        if intercept:\n",
    "            B1_old = B1\n",
    "            while abs(new_mse - last_mse) > alpha:\n",
    "                B1 -= alpha * (2/n) * sum([((B0 + array_x[i] * B1_old - array_y[i]) * array_x[i]) for i in range(n)])\n",
    "                B0 -= alpha * (2/n) * sum([(B0 + array_x[i] * B1_old - array_y[i]) for i in range(n)])\n",
    "                B1_old = B1\n",
    "                last_mse = new_mse\n",
    "                new_mse = cls.mse_lin_reg(B0, B1, array_x, array_y)\n",
    "            return [B0, B1]\n",
    "        else:\n",
    "            while abs(new_mse - last_mse) > alpha:\n",
    "                B1 -= alpha * (2/n) * sum([((array_x[i] * B1 - array_y[i]) * array_x[i]) for i in range(n)])\n",
    "                last_mse = new_mse\n",
    "                new_mse = cls.mse_lin_reg(B0, B1, array_x, array_y)\n",
    "            return B1"
   ]
  },
  {
   "cell_type": "markdown",
   "metadata": {},
   "source": [
    "## 1. Даны значения величины заработной платы заемщиков банка (zp) и значения их поведенческого кредитного скоринга (ks): zp = [35, 45, 190, 200, 40, 70, 54, 150, 120, 110], ks = [401, 574, 874, 919, 459, 739, 653, 902, 746, 832]. Используя математические операции, посчитать коэффициенты линейной регрессии, приняв за X заработную плату (то есть, zp - признак), а за y - значения скорингового балла (то есть, ks - целевая переменная). Произвести расчет как с использованием intercept, так и без."
   ]
  },
  {
   "cell_type": "code",
   "execution_count": 4,
   "metadata": {},
   "outputs": [],
   "source": [
    "zp = [35, 45, 190, 200, 40, 70, 54, 150, 120, 110]\n",
    "ks = [401, 574, 874, 919, 459, 739, 653, 902, 746, 832]"
   ]
  },
  {
   "cell_type": "markdown",
   "metadata": {},
   "source": [
    "Коэффициенты линейной регрессии используя матрицы (с intercept(b0, b1)):"
   ]
  },
  {
   "cell_type": "code",
   "execution_count": 5,
   "metadata": {},
   "outputs": [
    {
     "name": "stdout",
     "output_type": "stream",
     "text": [
      "444.1773573244 \n",
      "2.6205388824 \n"
     ]
    }
   ],
   "source": [
    "res = Math_Stat.lin_reg_matrix(zp, ks)\n",
    "print(res)"
   ]
  },
  {
   "cell_type": "markdown",
   "metadata": {},
   "source": [
    "Коэффициенты линейной регрессии используя матрицы (без intercept(b1)):"
   ]
  },
  {
   "cell_type": "code",
   "execution_count": 6,
   "metadata": {},
   "outputs": [
    {
     "name": "stdout",
     "output_type": "stream",
     "text": [
      "5.8898204201 \n"
     ]
    }
   ],
   "source": [
    "res = Math_Stat.lin_reg_matrix(zp, ks, intercept = False)\n",
    "print(res)"
   ]
  },
  {
   "cell_type": "markdown",
   "metadata": {},
   "source": [
    "## 2. Посчитать коэффициент линейной регрессии при заработной плате (zp), используя градиентный спуск (без intercept)."
   ]
  },
  {
   "cell_type": "code",
   "execution_count": 7,
   "metadata": {},
   "outputs": [],
   "source": [
    "zp = [35, 45, 190, 200, 40, 70, 54, 150, 120, 110]\n",
    "ks = [401, 574, 874, 919, 459, 739, 653, 902, 746, 832]"
   ]
  },
  {
   "cell_type": "markdown",
   "metadata": {},
   "source": [
    "Коэффициент линейной регрессии используя градиентный спуск (без intercept):"
   ]
  },
  {
   "cell_type": "code",
   "execution_count": 8,
   "metadata": {},
   "outputs": [
    {
     "data": {
      "text/plain": [
       "5.889796976614508"
      ]
     },
     "execution_count": 8,
     "metadata": {},
     "output_type": "execute_result"
    }
   ],
   "source": [
    "res = Math_Stat.lin_reg_grad(zp, ks, intercept = False)\n",
    "res"
   ]
  },
  {
   "cell_type": "markdown",
   "metadata": {},
   "source": [
    "## 3. В каких случаях для вычисления доверительных интервалов и проверки статистических гипотез используется таблица значений функции Лапласа, а в каких - таблица критических точек распределения Стьюдента? "
   ]
  },
  {
   "cell_type": "markdown",
   "metadata": {},
   "source": [
    "Таблица значений функции Лапласа используется для вычисления доверительных интервалов и проверки статистических гипотез, когда нам известна дисперсия или среднее квадратическое отклонение генеральной совокупности.\n",
    "\n",
    "Таблица критических точек распределения Стьюдента используется для вычисления доверительных интервалов и проверки статистических гипотез, когда нам НЕизвестна дисперсия или среднее квадратическое отклонение генеральной совокупности."
   ]
  },
  {
   "cell_type": "markdown",
   "metadata": {},
   "source": [
    "## 4. Произвести вычисления как в пункте 2, но с вычислением intercept. Учесть, что изменение коэффициентов должно производиться на каждом шаге одновременно (то есть изменение одного коэффициента не должно влиять на изменение другого во время одной итерации)."
   ]
  },
  {
   "cell_type": "code",
   "execution_count": 9,
   "metadata": {},
   "outputs": [],
   "source": [
    "zp = [35, 45, 190, 200, 40, 70, 54, 150, 120, 110]\n",
    "ks = [401, 574, 874, 919, 459, 739, 653, 902, 746, 832]"
   ]
  },
  {
   "cell_type": "markdown",
   "metadata": {},
   "source": [
    "Коэффициент линейной регрессии используя градиентный спуск (с intercept):"
   ]
  },
  {
   "cell_type": "code",
   "execution_count": 10,
   "metadata": {},
   "outputs": [
    {
     "data": {
      "text/plain": [
       "[442.2062074383119, 2.6350474170595026]"
      ]
     },
     "execution_count": 10,
     "metadata": {},
     "output_type": "execute_result"
    }
   ],
   "source": [
    "res = Math_Stat.lin_reg_grad(zp, ks)\n",
    "res"
   ]
  }
 ],
 "metadata": {
  "kernelspec": {
   "display_name": "Python 3",
   "language": "python",
   "name": "python3"
  },
  "language_info": {
   "codemirror_mode": {
    "name": "ipython",
    "version": 3
   },
   "file_extension": ".py",
   "mimetype": "text/x-python",
   "name": "python",
   "nbconvert_exporter": "python",
   "pygments_lexer": "ipython3",
   "version": "3.8.5"
  }
 },
 "nbformat": 4,
 "nbformat_minor": 4
}
