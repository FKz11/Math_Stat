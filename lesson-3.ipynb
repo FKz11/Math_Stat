{
 "cells": [
  {
   "cell_type": "markdown",
   "metadata": {},
   "source": [
    "# Lesson-3"
   ]
  },
  {
   "cell_type": "markdown",
   "metadata": {},
   "source": [
    "### Вспомогательные функции:"
   ]
  },
  {
   "cell_type": "code",
   "execution_count": 1,
   "metadata": {},
   "outputs": [],
   "source": [
    "class Prob_Theor: #Функции из теории вероятности\n",
    "    \n",
    "    @classmethod\n",
    "    def exp(cls, number): #Экспонента\n",
    "        return 2.7182818284590452353602874713526624977572470937**(number) \n",
    "    \n",
    "    @classmethod\n",
    "    def factorial(cls, digit): #Факториал\n",
    "        res = 1\n",
    "        for i in range(2, digit + 1):\n",
    "            res *= i\n",
    "        return res\n",
    "    \n",
    "    @classmethod\n",
    "    def combination(cls, m, n): #Сочетание\n",
    "        return cls.factorial(n)/(cls.factorial(m) * cls.factorial(n - m))\n",
    "    \n",
    "    @classmethod\n",
    "    def bernoulli(cls, m, n, p): #Формула Бернулли\n",
    "        return cls.combination(m, n) * p**m * (1 - p)**(n-m)\n",
    "    \n",
    "    @classmethod\n",
    "    def poisson(cls, m, l): #Формула Пуассона\n",
    "        return (l**m / cls.factorial(m)) * cls.exp(-l)\n",
    "    \n",
    "    @classmethod\n",
    "    def bayes(cls, probs_agents: list, probs_target: list, number_agent): #Формула Байеса\n",
    "        sum = 0\n",
    "        for i in range(len(probs_agents)):\n",
    "            sum += probs_agents[i] * probs_target[i]\n",
    "        return probs_agents[number_agent - 1]*probs_target[number_agent - 1] / sum"
   ]
  },
  {
   "cell_type": "code",
   "execution_count": 2,
   "metadata": {},
   "outputs": [],
   "source": [
    "class Math_Stat: #Функции из математической статистики\n",
    "    \n",
    "    @classmethod\n",
    "    def mean(cls, array): #Среднее арифметическое\n",
    "        sum = 0\n",
    "        for x in array:\n",
    "            sum += x\n",
    "        return sum / len(array)\n",
    "    \n",
    "    @classmethod\n",
    "    def var(cls, array, ddof = 0): #Дисперсия\n",
    "        sum = 0\n",
    "        mean = cls.mean(array) \n",
    "        for x in array:\n",
    "            sum += (x - mean)**2\n",
    "        return sum / (len(array) - ddof)\n",
    "    \n",
    "    @classmethod\n",
    "    def std(cls, array, ddof = 0): #Среднее квадратичное отклонение\n",
    "        return cls.var(array, ddof)**(0.5)"
   ]
  },
  {
   "cell_type": "markdown",
   "metadata": {},
   "source": [
    "## 1. Даны значения зарплат из выборки выпускников: 100, 80, 75, 77, 89, 33, 45, 25, 65, 17, 30, 24, 57, 55, 70, 75, 65, 84, 90, 150."
   ]
  },
  {
   "cell_type": "markdown",
   "metadata": {},
   "source": [
    "### Посчитать (желательно без использования статистических методов наподобие std, var, mean) среднее арифметическое, среднее квадратичное отклонение, смещенную и несмещенную оценки дисперсий для данной выборки."
   ]
  },
  {
   "cell_type": "code",
   "execution_count": 3,
   "metadata": {},
   "outputs": [],
   "source": [
    "array = [100, 80, 75, 77, 89, 33, 45, 25, 65, 17, 30, 24, 57, 55, 70, 75, 65, 84, 90, 150]"
   ]
  },
  {
   "cell_type": "markdown",
   "metadata": {},
   "source": [
    "Среднее арифметическое:"
   ]
  },
  {
   "cell_type": "code",
   "execution_count": 4,
   "metadata": {},
   "outputs": [
    {
     "data": {
      "text/plain": [
       "65.3"
      ]
     },
     "execution_count": 4,
     "metadata": {},
     "output_type": "execute_result"
    }
   ],
   "source": [
    "res = Math_Stat.mean(array)\n",
    "res"
   ]
  },
  {
   "cell_type": "markdown",
   "metadata": {},
   "source": [
    "Среднее квадратичное отклонение(смещённое):"
   ]
  },
  {
   "cell_type": "code",
   "execution_count": 5,
   "metadata": {},
   "outputs": [
    {
     "data": {
      "text/plain": [
       "30.823854398825596"
      ]
     },
     "execution_count": 5,
     "metadata": {},
     "output_type": "execute_result"
    }
   ],
   "source": [
    "res = Math_Stat.std(array)\n",
    "res"
   ]
  },
  {
   "cell_type": "markdown",
   "metadata": {},
   "source": [
    "Среднее квадратичное отклонение(не смещённое):"
   ]
  },
  {
   "cell_type": "code",
   "execution_count": 6,
   "metadata": {},
   "outputs": [
    {
     "data": {
      "text/plain": [
       "31.624607341019814"
      ]
     },
     "execution_count": 6,
     "metadata": {},
     "output_type": "execute_result"
    }
   ],
   "source": [
    "res = Math_Stat.std(array, ddof = 1)\n",
    "res"
   ]
  },
  {
   "cell_type": "markdown",
   "metadata": {},
   "source": [
    "Дисперсия(смещённая):"
   ]
  },
  {
   "cell_type": "code",
   "execution_count": 7,
   "metadata": {},
   "outputs": [
    {
     "data": {
      "text/plain": [
       "950.11"
      ]
     },
     "execution_count": 7,
     "metadata": {},
     "output_type": "execute_result"
    }
   ],
   "source": [
    "res = Math_Stat.var(array)\n",
    "res"
   ]
  },
  {
   "cell_type": "markdown",
   "metadata": {},
   "source": [
    "Дисперсия(не смещённая):"
   ]
  },
  {
   "cell_type": "code",
   "execution_count": 8,
   "metadata": {},
   "outputs": [
    {
     "data": {
      "text/plain": [
       "1000.1157894736842"
      ]
     },
     "execution_count": 8,
     "metadata": {},
     "output_type": "execute_result"
    }
   ],
   "source": [
    "res = Math_Stat.var(array, ddof = 1)\n",
    "res"
   ]
  },
  {
   "cell_type": "markdown",
   "metadata": {},
   "source": [
    "## 2. В первом ящике находится 8 мячей, из которых 5 - белые. Во втором ящике - 12 мячей, из которых 5 белых. Из первого ящика вытаскивают случайным образом два мяча, из второго - 4."
   ]
  },
  {
   "cell_type": "markdown",
   "metadata": {},
   "source": [
    "### Какова вероятность того, что 3 мяча белые?"
   ]
  },
  {
   "cell_type": "markdown",
   "metadata": {},
   "source": [
    "Вспомогательные вероятности:"
   ]
  },
  {
   "cell_type": "code",
   "execution_count": 9,
   "metadata": {},
   "outputs": [],
   "source": [
    "w2_1 = 5/8 * 4/7 #где w2_1 - 2 белых мяча из 1-го ящика\n",
    "w0_1 = 3/8 * 2/7\n",
    "w1_1 = 1 - w2_1 - w0_1 #так как w0_1, w1_1, w2_1 - все возможные варианты, значит: w0_1 + w1_1 + w2_1 = 1\n",
    "w1_2 = Prob_Theor.combination(1, 5)*Prob_Theor.combination(3, (12-5)) / Prob_Theor.combination(4, 12) #где (12-5) - не белые\n",
    "w2_2 = Prob_Theor.combination(2, 5)*Prob_Theor.combination(2, (12-5)) / Prob_Theor.combination(4, 12)\n",
    "w3_2 = Prob_Theor.combination(3, 5)*Prob_Theor.combination(1, (12-5)) / Prob_Theor.combination(4, 12)"
   ]
  },
  {
   "cell_type": "markdown",
   "metadata": {},
   "source": [
    "Вероятность, что 3 мяча белые:"
   ]
  },
  {
   "cell_type": "code",
   "execution_count": 10,
   "metadata": {},
   "outputs": [
    {
     "data": {
      "text/plain": [
       "0.3686868686868687"
      ]
     },
     "execution_count": 10,
     "metadata": {},
     "output_type": "execute_result"
    }
   ],
   "source": [
    "res = w2_1*w1_2 + w1_1*w2_2 + w0_1*w3_2\n",
    "res"
   ]
  },
  {
   "cell_type": "markdown",
   "metadata": {},
   "source": [
    "## 3. На соревновании по биатлону один из трех спортсменов стреляет и попадает в мишень. Вероятность попадания для первого спортсмена равна 0.9, для второго — 0.8, для третьего — 0.6."
   ]
  },
  {
   "cell_type": "markdown",
   "metadata": {},
   "source": [
    "#### a). Найти вероятность того, что выстрел произведен первым спортсменом "
   ]
  },
  {
   "cell_type": "code",
   "execution_count": 11,
   "metadata": {},
   "outputs": [
    {
     "data": {
      "text/plain": [
       "0.391304347826087"
      ]
     },
     "execution_count": 11,
     "metadata": {},
     "output_type": "execute_result"
    }
   ],
   "source": [
    "res = Prob_Theor.bayes([1/3, 1/3, 1/3], [0.9, 0.8, 0.6], 1)\n",
    "res"
   ]
  },
  {
   "cell_type": "markdown",
   "metadata": {},
   "source": [
    "#### б). Найти вероятность того, что выстрел произведен вторым спортсменом"
   ]
  },
  {
   "cell_type": "code",
   "execution_count": 12,
   "metadata": {},
   "outputs": [
    {
     "data": {
      "text/plain": [
       "0.3478260869565218"
      ]
     },
     "execution_count": 12,
     "metadata": {},
     "output_type": "execute_result"
    }
   ],
   "source": [
    "res = Prob_Theor.bayes([1/3, 1/3, 1/3], [0.9, 0.8, 0.6], 2)\n",
    "res"
   ]
  },
  {
   "cell_type": "markdown",
   "metadata": {},
   "source": [
    "#### в) Найти вероятность того, что выстрел произведен третьим спортсменом"
   ]
  },
  {
   "cell_type": "code",
   "execution_count": 13,
   "metadata": {},
   "outputs": [
    {
     "data": {
      "text/plain": [
       "0.2608695652173913"
      ]
     },
     "execution_count": 13,
     "metadata": {},
     "output_type": "execute_result"
    }
   ],
   "source": [
    "res = Prob_Theor.bayes([1/3, 1/3, 1/3], [0.9, 0.8, 0.6], 3)\n",
    "res"
   ]
  },
  {
   "cell_type": "markdown",
   "metadata": {},
   "source": [
    "## 4. В университет на факультеты A и B поступило равное количество студентов, а на факультет C студентов поступило столько же, сколько на A и B вместе. Вероятность того, что студент факультета A сдаст первую сессию, равна 0.8. Для студента факультета B эта вероятность равна 0.7, а для студента факультета C - 0.9. Студент сдал первую сессию."
   ]
  },
  {
   "cell_type": "markdown",
   "metadata": {},
   "source": [
    "Пускай x - количество студентов поступивших на факультет A, y - количество студентов поступивших на факультеты A, B, C. \n",
    "\n",
    "Тогда количество студентов поступивших на факультет B = x, количество студентов поступивших на факультет C = (x + x) = 2x.\n",
    "\n",
    "Составим уравение:\n",
    "\n",
    "(x + x) + 2x = y\n",
    "\n",
    "4x = y\n",
    "\n",
    "x = y/4\n",
    "\n",
    "Значит:"
   ]
  },
  {
   "cell_type": "code",
   "execution_count": 14,
   "metadata": {},
   "outputs": [],
   "source": [
    "prob_agent_A = 0.25\n",
    "prob_agent_B = 0.25\n",
    "prob_agent_C = 0.5"
   ]
  },
  {
   "cell_type": "markdown",
   "metadata": {},
   "source": [
    "#### a). Какова вероятность, что он учится на факультете A"
   ]
  },
  {
   "cell_type": "code",
   "execution_count": 15,
   "metadata": {},
   "outputs": [
    {
     "data": {
      "text/plain": [
       "0.24242424242424246"
      ]
     },
     "execution_count": 15,
     "metadata": {},
     "output_type": "execute_result"
    }
   ],
   "source": [
    "res = Prob_Theor.bayes([prob_agent_A, prob_agent_B, prob_agent_C], [0.8, 0.7, 0.9], 1)\n",
    "res"
   ]
  },
  {
   "cell_type": "markdown",
   "metadata": {},
   "source": [
    "#### б). Какова вероятность, что он учится на факультете B"
   ]
  },
  {
   "cell_type": "code",
   "execution_count": 16,
   "metadata": {},
   "outputs": [
    {
     "data": {
      "text/plain": [
       "0.21212121212121213"
      ]
     },
     "execution_count": 16,
     "metadata": {},
     "output_type": "execute_result"
    }
   ],
   "source": [
    "res = Prob_Theor.bayes([prob_agent_A, prob_agent_B, prob_agent_C], [0.8, 0.7, 0.9], 2)\n",
    "res"
   ]
  },
  {
   "cell_type": "markdown",
   "metadata": {},
   "source": [
    "#### в). Какова вероятность, что он учится на факультете C"
   ]
  },
  {
   "cell_type": "code",
   "execution_count": 17,
   "metadata": {},
   "outputs": [
    {
     "data": {
      "text/plain": [
       "0.5454545454545455"
      ]
     },
     "execution_count": 17,
     "metadata": {},
     "output_type": "execute_result"
    }
   ],
   "source": [
    "res = Prob_Theor.bayes([prob_agent_A, prob_agent_B, prob_agent_C], [0.8, 0.7, 0.9], 3)\n",
    "res"
   ]
  },
  {
   "cell_type": "markdown",
   "metadata": {},
   "source": [
    "## 5. Устройство состоит из трех деталей. Для первой детали вероятность выйти из строя в первый месяц равна 0.1, для второй - 0.2, для третьей - 0.25."
   ]
  },
  {
   "cell_type": "code",
   "execution_count": 18,
   "metadata": {},
   "outputs": [],
   "source": [
    "prob_1 = 0.1\n",
    "prob_2 = 0.2\n",
    "prob_3 = 0.25"
   ]
  },
  {
   "cell_type": "markdown",
   "metadata": {},
   "source": [
    "#### a). Какова вероятность того, что в первый месяц выйдут из строя все детали"
   ]
  },
  {
   "cell_type": "code",
   "execution_count": 19,
   "metadata": {},
   "outputs": [
    {
     "data": {
      "text/plain": [
       "0.005000000000000001"
      ]
     },
     "execution_count": 19,
     "metadata": {},
     "output_type": "execute_result"
    }
   ],
   "source": [
    "res = prob_1 * prob_2 * prob_3\n",
    "res"
   ]
  },
  {
   "cell_type": "markdown",
   "metadata": {},
   "source": [
    "#### б). Какова вероятность того, что в первый месяц выйдут из строя только две детали"
   ]
  },
  {
   "cell_type": "code",
   "execution_count": 20,
   "metadata": {},
   "outputs": [
    {
     "data": {
      "text/plain": [
       "0.08"
      ]
     },
     "execution_count": 20,
     "metadata": {},
     "output_type": "execute_result"
    }
   ],
   "source": [
    "res = (1 - prob_1) * prob_2 * prob_3 + prob_1 * (1 - prob_2) * prob_3 + prob_1 * prob_2 * (1 - prob_3)\n",
    "res #где (1 - prob_1) - деталь не выйдет из строя"
   ]
  },
  {
   "cell_type": "markdown",
   "metadata": {},
   "source": [
    "#### в). Какова вероятность того, что в первый месяц выйдет из строя хотя бы одна деталь"
   ]
  },
  {
   "cell_type": "code",
   "execution_count": 21,
   "metadata": {},
   "outputs": [
    {
     "data": {
      "text/plain": [
       "0.45999999999999996"
      ]
     },
     "execution_count": 21,
     "metadata": {},
     "output_type": "execute_result"
    }
   ],
   "source": [
    "res = 1 - (1 - prob_1) * (1 - prob_2) * (1 - prob_3) #где (1 - prob_1) * (1 - prob_2) * (1 - prob_3) - выйдет из строя 0 деталей\n",
    "res"
   ]
  },
  {
   "cell_type": "markdown",
   "metadata": {},
   "source": [
    "#### г). Какова вероятность того, что в первый месяц выйдут из строя от одной до двух деталей"
   ]
  },
  {
   "cell_type": "code",
   "execution_count": 22,
   "metadata": {},
   "outputs": [
    {
     "data": {
      "text/plain": [
       "0.45499999999999996"
      ]
     },
     "execution_count": 22,
     "metadata": {},
     "output_type": "execute_result"
    }
   ],
   "source": [
    "res = 1 - (1 - prob_1) * (1 - prob_2) * (1 - prob_3) - prob_1 * prob_2 * prob_3\n",
    "res"
   ]
  }
 ],
 "metadata": {
  "kernelspec": {
   "display_name": "Python 3",
   "language": "python",
   "name": "python3"
  },
  "language_info": {
   "codemirror_mode": {
    "name": "ipython",
    "version": 3
   },
   "file_extension": ".py",
   "mimetype": "text/x-python",
   "name": "python",
   "nbconvert_exporter": "python",
   "pygments_lexer": "ipython3",
   "version": "3.8.5"
  }
 },
 "nbformat": 4,
 "nbformat_minor": 4
}
